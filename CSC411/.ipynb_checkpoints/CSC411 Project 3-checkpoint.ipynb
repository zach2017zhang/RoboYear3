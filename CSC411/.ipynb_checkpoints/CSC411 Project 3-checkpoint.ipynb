{
 "cells": [
  {
   "cell_type": "markdown",
   "metadata": {},
   "source": [
    "# CSC411 Assignment 3"
   ]
  },
  {
   "cell_type": "markdown",
   "metadata": {},
   "source": [
    "## Part 1\n",
    "Todo: dataset description"
   ]
  },
  {
   "cell_type": "markdown",
   "metadata": {},
   "source": [
    "## Helper Functions for Part 2"
   ]
  },
  {
   "cell_type": "code",
   "execution_count": 199,
   "metadata": {},
   "outputs": [],
   "source": [
    "from pylab import *\n",
    "import numpy as np\n",
    "import matplotlib.pyplot as plt\n",
    "import matplotlib.cbook as cbook\n",
    "import matplotlib.image as mpimg\n",
    "import os\n",
    "import urllib\n",
    "from copy import deepcopy\n",
    "from sklearn.feature_extraction.text import ENGLISH_STOP_WORDS\n",
    "# Constants\n",
    "# -----------------------------------------------------------------------------"
   ]
  },
  {
   "cell_type": "code",
   "execution_count": 146,
   "metadata": {},
   "outputs": [],
   "source": [
    "# Functions used in multiple parts\n",
    "# -----------------------------------------------------------------------------\n",
    "def getNews(seed = 0):\n",
    "    \n",
    "    fakeFile = open(\"clean_fake.txt\",'r')\n",
    "    fakeNews = fakeFile.read().splitlines()\n",
    "    fakeFile.close()\n",
    "    realFile = open(\"clean_real.txt\",'r')\n",
    "    realNews = realFile.read().splitlines()\n",
    "    realFile.close()\n",
    "    \n",
    "    np.random.shuffle(fakeNews)\n",
    "    np.random.shuffle(realNews)\n",
    "    \n",
    "    return fakeNews, realNews"
   ]
  },
  {
   "cell_type": "code",
   "execution_count": 147,
   "metadata": {},
   "outputs": [],
   "source": [
    "def dataSetSplit(fakeNews, realNews,seed = 0):\n",
    "    \n",
    "    trainingSet ={'real': realNews[:int(0.7*len(realNews))], 'fake':fakeNews[:int(0.7*len(fakeNews))]} \n",
    "    validationSet = {'real':realNews[int(0.7*len(realNews)):int(0.85*len(realNews))], 'fake':fakeNews[int(0.7*len(fakeNews)):int(0.85*len(fakeNews))]}\n",
    "    testSet = {'real': realNews[int(0.85*len(realNews)):] , 'fake': fakeNews[int(0.85*len(fakeNews)):]}\n",
    "\n",
    "    return trainingSet, validationSet, testSet"
   ]
  },
  {
   "cell_type": "code",
   "execution_count": 148,
   "metadata": {},
   "outputs": [],
   "source": [
    "def count(trainingSet, validationSet, testSet):\n",
    "    trainingCount = {'real':{}, 'fake':{}}\n",
    "    validationCount = {'real':{}, 'fake':{}}\n",
    "    testCount = {'real':{}, 'fake':{}}\n",
    "    \n",
    "    for rof in ['real','fake']:\n",
    "        for news in trainingSet[rof]:\n",
    "            for word in set(news.split(' ')):\n",
    "                if not word in trainingCount[rof].keys():\n",
    "                    trainingCount[rof][word] = 1\n",
    "                else:\n",
    "                    trainingCount[rof][word] += 1\n",
    "        \n",
    "        for news in validationSet[rof]:\n",
    "            for word in set(news.split(' ')):\n",
    "                if not word in validationCount[rof].keys():\n",
    "                    validationCount[rof][word] = 1\n",
    "                else:\n",
    "                    validationCount[rof][word] += 1\n",
    "        \n",
    "        for news in testSet[rof]:\n",
    "            for word in set(news.split(' ')):\n",
    "                if not word in testCount[rof].keys():\n",
    "                    testCount[rof][word] = 1\n",
    "                else:\n",
    "                    testCount[rof][word] += 1\n",
    "\n",
    "    trainingRealCount = len(trainingSet['real'])\n",
    "    trainingFakeCount = len(trainingSet['fake'])\n",
    "    validationRealCount = len(validationSet['real'])\n",
    "    validationFakeCount = len(validationSet['fake'])\n",
    "    testRealCount = len(testSet['real'])\n",
    "    testFakeCount = len(testSet['fake'])\n",
    "    \n",
    "    return trainingRealCount,trainingFakeCount,validationRealCount,validationFakeCount,testRealCount,testFakeCount, trainingCount, validationCount, testCount\n"
   ]
  },
  {
   "cell_type": "code",
   "execution_count": 149,
   "metadata": {},
   "outputs": [],
   "source": [
    "def probability(trainingRealCount,trainingFakeCount, trainingCount, m, pHat):\n",
    "    trainingProbability = {'real': {}, 'fake': {}}\n",
    "    for word in trainingCount['real'].keys():\n",
    "        trainingProbability['real'][word] = (trainingCount['real'][word]+m*pHat)/float(trainingRealCount+m)\n",
    "    for word in trainingCount['fake'].keys():\n",
    "        trainingProbability['fake'][word] = (trainingCount['fake'][word]+m*pHat)/float(trainingFakeCount+m)\n",
    "    \n",
    "    realProbability = float(trainingRealCount)/(trainingRealCount+trainingFakeCount)\n",
    "    fakeProbability = float(trainingFakeCount)/(trainingRealCount+trainingFakeCount)\n",
    "    \n",
    "    return trainingProbability, realProbability, fakeProbability"
   ]
  },
  {
   "cell_type": "code",
   "execution_count": 150,
   "metadata": {},
   "outputs": [],
   "source": [
    "def getAccuracy(trainingProbability,realProbability, fakeProbability, targetSet, m, pHat):\n",
    "    accuracy = 0\n",
    "    for rof in ['real', 'fake']:\n",
    "        for numNews in range(len(targetSet[rof])):\n",
    "            logProb = 0   \n",
    "            for word in trainingProbability['real'].keys():\n",
    "                if word in targetSet[rof][numNews].split(' '):\n",
    "                    logProb += log(trainingProbability['real'][word])\n",
    "                else:\n",
    "                    logProb += log(1-trainingProbability['real'][word])\n",
    "            for word in targetSet[rof][numNews].split(' '):\n",
    "                if not word in trainingProbability['real'].keys():\n",
    "                    logProb += log(pHat)\n",
    "            logProb += log(realProbability)\n",
    "            realProb = logProb\n",
    "\n",
    "            logProb = 0 \n",
    "            for word in trainingProbability['fake'].keys():\n",
    "                if word in targetSet[rof][numNews].split(' '):\n",
    "                    logProb += log(trainingProbability['fake'][word])\n",
    "                else:\n",
    "                    logProb += log(1-trainingProbability['fake'][word])\n",
    "            for word in targetSet[rof][numNews].split(' '):\n",
    "                if not word in trainingProbability['fake'].keys():\n",
    "                    logProb += log(pHat)\n",
    "            logProb += log(fakeProbability)\n",
    "            fakeProb = logProb\n",
    "            \n",
    "            if rof == 'real':\n",
    "                if realProb > fakeProb:\n",
    "                    accuracy += 1\n",
    "            else:\n",
    "                if realProb < fakeProb:\n",
    "                    accuracy += 1\n",
    "                    \n",
    "    return accuracy / (float(len(targetSet['fake']))+float(len(targetSet['real'])))\n"
   ]
  },
  {
   "cell_type": "code",
   "execution_count": 151,
   "metadata": {},
   "outputs": [],
   "source": [
    "def generateWordBase(trainingSet):\n",
    "    wordBase = []\n",
    "    for rof in trainingSet.keys():\n",
    "        for news in trainingSet[rof]:\n",
    "            for word in news.split(' '):\n",
    "                wordBase.append(word)\n",
    "    return list(set(wordBase))"
   ]
  },
  {
   "cell_type": "code",
   "execution_count": 152,
   "metadata": {},
   "outputs": [],
   "source": [
    "def getProbability(trainingProbability,realProbability, fakeProbability, wordBase, m, pHat):\n",
    "    words = []\n",
    "    realPs = []\n",
    "    fakePs = []\n",
    "    \n",
    "    for testWord in wordBase:\n",
    "        logProb = 0   \n",
    "        for word in trainingProbability['real'].keys():\n",
    "            if word == testWord:\n",
    "                logProb += log(trainingProbability['real'][word])\n",
    "            else:\n",
    "                logProb += log(1-trainingProbability['real'][word])\n",
    "        logProb += log(realProbability)\n",
    "        realProb = logProb\n",
    "        \n",
    "        logProb = 0   \n",
    "        for word in trainingProbability['fake'].keys():\n",
    "            if word == testWord:\n",
    "                logProb += log(trainingProbability['fake'][word])\n",
    "            else:\n",
    "                logProb += log(1-trainingProbability['fake'][word])\n",
    "        logProb += log(fakeProbability)\n",
    "        fakeProb = logProb\n",
    "        \n",
    "        words.append(testWord)\n",
    "        realPs.append(realProb)\n",
    "        fakePs.append(fakeProb)\n",
    "        \n",
    "    return words, realPs, fakePs\n"
   ]
  },
  {
   "cell_type": "markdown",
   "metadata": {},
   "source": [
    "## Part 2\n",
    "Todo: 这个part基本写完了 tune的东西之后我来做就好了\n",
    "\n",
    "Implement the Naive Bayes algorithm for predicting whether a headline is real or fake. Tune the parameters of the prior using the validation set. Report how you did it, and the result. \n",
    "Report the performance on the training and the test sets that you obtain. Note that computing products of many small numbers leads to underflow. Use the fact that"
   ]
  },
  {
   "cell_type": "code",
   "execution_count": 258,
   "metadata": {},
   "outputs": [],
   "source": [
    "def part2(seed = 0):\n",
    "    np.random.seed(seed)\n",
    "\n",
    "    fakeNews, realNews = getNews()\n",
    "    trainingSet, validationSet, testSet = dataSetSplit(fakeNews, realNews)\n",
    "    trainingRealCount,trainingFakeCount,validationRealCount, \\\n",
    "    validationFakeCount,testRealCount,testFakeCount, trainingCount, \\\n",
    "    validationCount, testCount = count(trainingSet, validationSet, testSet)\n",
    "    \n",
    "    m = 0.1\n",
    "    pHat = 0.0001\n",
    "    CMax = 0\n",
    "    \n",
    "    #ms = np.arange(0.1, 1, 0.1)\n",
    "    #pHats = np.arange(0.0001, 0.001, 0.0001)\n",
    "    \n",
    "    ms = np.array([0.01, 0.1, 1, 10, 100])\n",
    "    pHats = np.array([0.0001, 0.001, 0.01, 0.1, 1])\n",
    "    \n",
    "    C = np.zeros([ms.size, pHats.size])\n",
    "    for i, w1 in enumerate(ms):\n",
    "        for j, w2 in enumerate(pHats):\n",
    "            trainingProbability, realProbability, fakeProbability = probability(trainingRealCount,trainingFakeCount, trainingCount, w1,w2)\n",
    "            C[i,j] = getAccuracy(trainingProbability,realProbability, fakeProbability, validationSet, w1, w2)\n",
    "            if C[i,j] > CMax:\n",
    "                CMax = C[i,j]\n",
    "                m = w1\n",
    "                pHat = w2\n",
    "    \n",
    "    mz, pHatz = np.meshgrid(ms, pHats)\n",
    "    CS = plt.contour(mz, pHatz, C)\n",
    "    plt.clabel(CS)\n",
    "    plt.legend(loc='upper left')\n",
    "    plt.title('Contour plot')\n",
    "    plt.show()\n",
    "    \n",
    "    trainingProbability, realProbability, fakeProbability = probability(trainingRealCount,trainingFakeCount, trainingCount, m,pHat)\n",
    "    \n",
    "    print 'm =', (m)\n",
    "    print 'pHat =', (pHat)\n",
    "    print 'Performance on validation set is',(getAccuracy(trainingProbability,realProbability, fakeProbability, validationSet, m, pHat))\n",
    "    print 'Performance on test set is', (getAccuracy(trainingProbability,realProbability, fakeProbability, testSet, m, pHat))\n",
    "    print 'Performance on training set is',(getAccuracy(trainingProbability,realProbability, fakeProbability, trainingSet, m, pHat))"
   ]
  },
  {
   "cell_type": "code",
   "execution_count": 259,
   "metadata": {},
   "outputs": [
    {
     "name": "stdout",
     "output_type": "stream",
     "text": [
      "sad\n",
      "sad\n",
      "sad\n",
      "sad\n",
      "sad\n",
      "sad\n",
      "sad\n",
      "sad\n",
      "sad\n",
      "sad\n",
      "sad\n",
      "sad\n",
      "sad\n",
      "sad\n",
      "sad\n",
      "sad\n",
      "sad\n",
      "sad\n",
      "sad\n",
      "sad\n",
      "sad\n",
      "sad\n",
      "sad\n",
      "sad\n",
      "sad\n"
     ]
    },
    {
     "data": {
      "image/png": "[encoded data removed]",
      "text/plain": [
       "<Figure size 432x288 with 1 Axes>"
      ]
     },
     "metadata": {},
     "output_type": "display_data"
    },
    {
     "name": "stdout",
     "output_type": "stream",
     "text": [
      "m = 0.01\n",
      "pHat = 0.0001\n",
      "Performance on validation set is 0.879591836735\n",
      "Performance on test set is 0.843177189409\n",
      "Performance on training set is 0.966301969365\n"
     ]
    }
   ],
   "source": [
    "part2()"
   ]
  },
  {
   "cell_type": "markdown",
   "metadata": {},
   "source": [
    "## Part 3"
   ]
  },
  {
   "cell_type": "markdown",
   "metadata": {},
   "source": [
    "### Part3 a)"
   ]
  },
  {
   "cell_type": "code",
   "execution_count": 217,
   "metadata": {},
   "outputs": [],
   "source": [
    "def part3aNaiveVersion(seed = 0):\n",
    "    np.random.seed(0)\n",
    "\n",
    "    fakeNews, realNews = getNews()\n",
    "    trainingSet, validationSet, testSet = dataSetSplit(fakeNews, realNews)\n",
    "    trainingRealCount,trainingFakeCount,validationRealCount, \\\n",
    "    validationFakeCount,testRealCount,testFakeCount, trainingCount, \\\n",
    "    validationCount, testCount = count(trainingSet, validationSet, testSet)\n",
    "\n",
    "    m = 0.1\n",
    "    pHat = 0.0001\n",
    "    trainingProbability, realProbability, fakeProbability = probability(trainingRealCount,trainingFakeCount, trainingCount, m, pHat)\n",
    "    realWord = trainingProbability['real'].keys()\n",
    "    fakeWord = trainingProbability['fake'].keys()\n",
    "    realProbability = [trainingProbability['real'][prob] for prob in realWord]\n",
    "    fakeProbability = [trainingProbability['fake'][prob] for prob in fakeWord]\n",
    "    \n",
    "    realResult = []\n",
    "    for i in range(10):\n",
    "        realResult.append(realWord.pop(realProbability.index(max(realProbability))))\n",
    "        realProbability.remove(max(realProbability))\n",
    "    \n",
    "    fakeResult = []\n",
    "    for i in range(10):\n",
    "        fakeResult.append(fakeWord.pop(fakeProbability.index(max(fakeProbability))))\n",
    "        fakeProbability.remove(max(fakeProbability))\n",
    "        \n",
    "    print realResult\n",
    "    print fakeResult"
   ]
  },
  {
   "cell_type": "code",
   "execution_count": 218,
   "metadata": {},
   "outputs": [
    {
     "name": "stdout",
     "output_type": "stream",
     "text": [
      "['trump', 'donald', 'to', 'us', 'in', 'trumps', 'on', 'of', 'says', 'the']\n",
      "['trump', 'the', 'to', 'donald', 'in', 'for', 'of', 'a', 'and', 'is']\n"
     ]
    }
   ],
   "source": [
    "part3aNaiveVersion()"
   ]
  },
  {
   "cell_type": "code",
   "execution_count": 208,
   "metadata": {},
   "outputs": [],
   "source": [
    "def part3a(seed = 0):\n",
    "    np.random.seed(0)\n",
    "\n",
    "    fakeNews, realNews = getNews()\n",
    "    trainingSet, validationSet, testSet = dataSetSplit(fakeNews, realNews)\n",
    "    trainingRealCount,trainingFakeCount,validationRealCount, \\\n",
    "    validationFakeCount,testRealCount,testFakeCount, trainingCount, \\\n",
    "    validationCount, testCount = count(trainingSet, validationSet, testSet)\n",
    "\n",
    "    m = 0.1\n",
    "    pHat = 0.0001\n",
    "    trainingProbability, realProbability, fakeProbability = \\\n",
    "    probability(trainingRealCount,trainingFakeCount, trainingCount, m,pHat)\n",
    "\n",
    "    wordBase = generateWordBase(trainingSet)\n",
    "    wordsOriginal, realPs, fakePs = getProbability(trainingProbability,realProbability, fakeProbability, wordBase, m, pHat)\n",
    "    \n",
    "    words = deepcopy(wordsOriginal)\n",
    "    realResultMax = []\n",
    "    for i in range(10):\n",
    "        realResultMax.append(words.pop(realPs.index(max(realPs))))\n",
    "        realPs.remove(max(realPs))\n",
    "\n",
    "    words = deepcopy(wordsOriginal)\n",
    "    fakeResultMax = []\n",
    "    for i in range(10):\n",
    "        fakeResultMax.append(words.pop(fakePs.index(max(fakePs))))\n",
    "        fakePs.remove(max(fakePs))\n",
    "    \n",
    "    words = deepcopy(wordsOriginal)\n",
    "    realResultMin = []\n",
    "    for i in range(10):\n",
    "        realResultMin.append(words.pop(realPs.index(min(realPs))))\n",
    "        realPs.remove(min(realPs))\n",
    "        \n",
    "    words = deepcopy(wordsOriginal)\n",
    "    fakeResultMin = []\n",
    "    for i in range(10):\n",
    "        fakeResultMin.append(words.pop(fakePs.index(min(fakePs))))\n",
    "        fakePs.remove(min(fakePs))\n",
    "        \n",
    "    print realResultMax\n",
    "    print fakeResultMax\n",
    "    print realResultMin \n",
    "    print fakeResultMin"
   ]
  },
  {
   "cell_type": "code",
   "execution_count": 209,
   "metadata": {},
   "outputs": [
    {
     "name": "stdout",
     "output_type": "stream",
     "text": [
      "['trump', 'hats', 'pide', 'bosses', 'universe', 'battleground', 'assembled', 'dazu', 'tonya', 'cashin']\n",
      "['trump', 'obstruction', 'controversial', 'aides', 'marching', 'stinks', 'paris', 'kidman', 'condemns', 'whack']\n",
      "['stirred', 'ipswich', 'rule', 'keystone', 'aback', 'montel', 'francisco', 'star', 'june', 'rex']\n",
      "['completely', 'gofundme', 'release', 'vicu', 'claims', 'hung', 'sebastian', 'people', 'anderson', 'removed']\n"
     ]
    }
   ],
   "source": [
    "part3a()"
   ]
  },
  {
   "cell_type": "markdown",
   "metadata": {},
   "source": [
    "### Part 3 b)"
   ]
  },
  {
   "cell_type": "code",
   "execution_count": 220,
   "metadata": {},
   "outputs": [],
   "source": [
    "def part3bNaiveVersion(seed = 0):\n",
    "    np.random.seed(0)\n",
    "\n",
    "    fakeNews, realNews = getNews()\n",
    "    trainingSet, validationSet, testSet = dataSetSplit(fakeNews, realNews)\n",
    "    trainingRealCount,trainingFakeCount,validationRealCount, \\\n",
    "    validationFakeCount,testRealCount,testFakeCount, trainingCount, \\\n",
    "    validationCount, testCount = count(trainingSet, validationSet, testSet)\n",
    "\n",
    "    m = 0.1\n",
    "    pHat = 0.0001\n",
    "    trainingProbability, realProbability, fakeProbability = probability(trainingRealCount,trainingFakeCount, trainingCount, m, pHat)\n",
    "    realWord = trainingProbability['real'].keys()\n",
    "    fakeWord = trainingProbability['fake'].keys()\n",
    "    realProbability = [trainingProbability['real'][prob] for prob in realWord]\n",
    "    fakeProbability = [trainingProbability['fake'][prob] for prob in fakeWord]\n",
    "    \n",
    "    realResult = []\n",
    "    for i in range(10):\n",
    "        realResult.append(realWord.pop(realProbability.index(max(realProbability))))\n",
    "        realProbability.remove(max(realProbability))\n",
    "    \n",
    "    fakeResult = []\n",
    "    for i in range(10):\n",
    "        fakeResult.append(fakeWord.pop(fakeProbability.index(max(fakeProbability))))\n",
    "        fakeProbability.remove(max(fakeProbability))\n",
    "        \n",
    "    print realResult\n",
    "    print fakeResult"
   ]
  },
  {
   "cell_type": "code",
   "execution_count": 221,
   "metadata": {},
   "outputs": [
    {
     "name": "stdout",
     "output_type": "stream",
     "text": [
      "['trump', 'donald', 'to', 'us', 'in', 'trumps', 'on', 'of', 'says', 'the']\n",
      "['trump', 'the', 'to', 'donald', 'in', 'for', 'of', 'a', 'and', 'is']\n"
     ]
    }
   ],
   "source": [
    "part3bNaiveVersion()"
   ]
  },
  {
   "cell_type": "code",
   "execution_count": 210,
   "metadata": {},
   "outputs": [],
   "source": [
    "def part3b(seed = 0):\n",
    "    np.random.seed(0)\n",
    "    \n",
    "    fakeNews, realNews = getNews()\n",
    "    trainingSet, validationSet, testSet = dataSetSplit(fakeNews, realNews)\n",
    "    trainingRealCount,trainingFakeCount,validationRealCount, \\\n",
    "    validationFakeCount,testRealCount,testFakeCount, trainingCount, \\\n",
    "    validationCount, testCount = count(trainingSet, validationSet, testSet)\n",
    "\n",
    "    m = 0.1\n",
    "    pHat = 0.0001\n",
    "    trainingProbability, realProbability, fakeProbability = \\\n",
    "    probability(trainingRealCount,trainingFakeCount, trainingCount, m,pHat)\n",
    "\n",
    "    wordBase = generateWordBase(trainingSet)\n",
    "    \n",
    "    for word in ENGLISH_STOP_WORDS:\n",
    "        if word in wordBase:\n",
    "            wordBase.remove(word)\n",
    "    \n",
    "    wordsOriginal, realPs, fakePs = getProbability(trainingProbability,realProbability, fakeProbability, wordBase, m, pHat)\n",
    "    \n",
    "    words = deepcopy(wordsOriginal)\n",
    "    realResultMax = []\n",
    "    for i in range(10):\n",
    "        realResultMax.append(words.pop(realPs.index(max(realPs))))\n",
    "        realPs.remove(max(realPs))\n",
    "\n",
    "    words = deepcopy(wordsOriginal)\n",
    "    fakeResultMax = []\n",
    "    for i in range(10):\n",
    "        fakeResultMax.append(words.pop(fakePs.index(max(fakePs))))\n",
    "        fakePs.remove(max(fakePs))\n",
    "    \n",
    "    words = deepcopy(wordsOriginal)\n",
    "    realResultMin = []\n",
    "    for i in range(10):\n",
    "        realResultMin.append(words.pop(realPs.index(min(realPs))))\n",
    "        realPs.remove(min(realPs))\n",
    "        \n",
    "    words = deepcopy(wordsOriginal)\n",
    "    fakeResultMin = []\n",
    "    for i in range(10):\n",
    "        fakeResultMin.append(words.pop(fakePs.index(min(fakePs))))\n",
    "        fakePs.remove(min(fakePs))\n",
    "        \n",
    "    print realResultMax\n",
    "    print fakeResultMax\n",
    "    print realResultMin \n",
    "    print fakeResultMin"
   ]
  },
  {
   "cell_type": "code",
   "execution_count": 211,
   "metadata": {},
   "outputs": [
    {
     "name": "stdout",
     "output_type": "stream",
     "text": [
      "['trump', 'hats', 'pide', 'bosses', 'universe', 'battleground', 'assembled', 'dazu', 'tonya', 'cashin']\n",
      "['trump', 'obstruction', 'controversial', 'aides', 'marching', 'stinks', 'paris', 'kidman', 'condemns', 'whack']\n",
      "['stirred', 'ipswich', 'rule', 'keystone', 'aback', 'montel', 'francisco', 'star', 'june', 'rex']\n",
      "['completely', 'negative', 'employees', 'vicu', 'mother', 'hung', 'sebastian', 'people', 'virgin', 'removed']\n"
     ]
    }
   ],
   "source": [
    "part3b()"
   ]
  },
  {
   "cell_type": "markdown",
   "metadata": {},
   "source": [
    "## Helper Functions for Part 4"
   ]
  },
  {
   "cell_type": "code",
   "execution_count": 222,
   "metadata": {},
   "outputs": [],
   "source": [
    "def generateData(wordBase, targetSet):\n",
    "    xy = np.zeros([len(wordBase)+2, (len(targetSet['real'])+len(targetSet['fake']))])\n",
    "    n = 0\n",
    "    for rof in ['real', 'fake']:\n",
    "        for news in targetSet[rof]:\n",
    "            for word in news.split(' '):\n",
    "                if word in wordBase:\n",
    "                    xy[wordBase.index(word),n] = 1\n",
    "            if rof == 'real':\n",
    "                xy[-1,n] = 1\n",
    "            n += 1\n",
    "    xy[-2,:] = 1\n",
    "    return xy"
   ]
  },
  {
   "cell_type": "code",
   "execution_count": 223,
   "metadata": {},
   "outputs": [],
   "source": [
    "def sigmoidForward(y):\n",
    "    return 1/(1+exp(-y))\n",
    "\n",
    "def fcForward(x,W):\n",
    "    return np.matmul(W.T,x)\n",
    "    \n",
    "def forward(x, W):\n",
    "    L1 = fcForward(x,W)\n",
    "    output = sigmoidForward(L1)\n",
    "    return output\n",
    "\n",
    "def sigmoidBackward(y,output):\n",
    "    return output-y\n",
    "\n",
    "def fcBackward(dy,x):\n",
    "    dW = np.matmul(x,dy.T)\n",
    "    return dW\n",
    "\n",
    "def backward(y,output,x, W, lam):\n",
    "    dy = sigmoidBackward(y,output)\n",
    "    dW = fcBackward(dy,x)\n",
    "    dWR = 2*lam*W\n",
    "    return dW + dWR\n",
    "\n",
    "def NLL(y,output, lam, W):\n",
    "    return -sum(y*log(output)+(1-y)*log((1-output)))+ lam*np.matmul(W.T,W)"
   ]
  },
  {
   "cell_type": "code",
   "execution_count": 234,
   "metadata": {},
   "outputs": [],
   "source": [
    "def performance(x, y, W, print_output = False,report = \"test set\"):\n",
    "    output = forward(x,W)\n",
    "    result = 0.\n",
    "\n",
    "    for i in range(x.shape[1]):\n",
    "        if (output[0,i]>0.5 and y[i]==1):\n",
    "            result+=1\n",
    "        elif (output[0,i]<0.5 and y[i]==0):\n",
    "            result += 1\n",
    "            \n",
    "    if print_output:\n",
    "        print \"Performance on \"+report+ \": \" +str(result)+\"/\"+str(x.shape[1])+\"\\n\"\n",
    "    \n",
    "    return result/x.shape[1]"
   ]
  },
  {
   "cell_type": "code",
   "execution_count": 260,
   "metadata": {},
   "outputs": [],
   "source": [
    "def grad_descent(f, df, loss, x, y, init_t,training_xy,validation_xy,test_xy, lam = 0.0001, alpha=0.0001, max_iter=5000, EPS = 1e-5, learningCurve = True):\n",
    "    v = np.zeros((init_t.shape[0],init_t.shape[1])) #used for momentum\n",
    "    prev_t = init_t-10*EPS\n",
    "    t = init_t.copy()\n",
    "    \n",
    "    iter  = 0\n",
    "    \n",
    "    num_iter = []\n",
    "    performance_training = []\n",
    "    performance_validation = []\n",
    "    performance_test = []\n",
    "    \n",
    "    while norm(t - prev_t) >  EPS and iter < max_iter:\n",
    "        \n",
    "        #normal gradient descent\n",
    "        prev_t = t.copy()\n",
    "        t -= alpha*df(y, f(x,t), x, t, lam)\n",
    "        \n",
    "        if iter % 5 == 0:\n",
    "            #print \"Iter\", iter\n",
    "            #print loss(y, f(x,t),lam, t)\n",
    "            num_iter.append(iter)\n",
    "            performance_training.append(performance(training_xy[:-1,:], training_xy[-1,:], t))\n",
    "            performance_validation.append(performance(validation_xy[:-1,:], validation_xy[-1,:], t))\n",
    "            performance_test.append(performance(test_xy[:-1,:], test_xy[-1,:], t))\n",
    "        \n",
    "        iter += 1\n",
    "        \n",
    "    if learningCurve:\n",
    "        plt.plot(num_iter, performance_training,'-')\n",
    "        plt.plot(num_iter, performance_validation,'-')\n",
    "        plt.plot(num_iter, performance_test,'-')\n",
    "        plt.legend(['training', 'test'])\n",
    "        plt.xlabel('Number of Iterations')\n",
    "        plt.ylabel('Performance')\n",
    "        plt.show()\n",
    "    \n",
    "    return t"
   ]
  },
  {
   "cell_type": "markdown",
   "metadata": {},
   "source": [
    "## Part 4\n"
   ]
  },
  {
   "cell_type": "code",
   "execution_count": 261,
   "metadata": {},
   "outputs": [],
   "source": [
    "def part4(seed = 0):\n",
    "    np.random.seed(seed)\n",
    "    fakeNews, realNews = getNews()\n",
    "    trainingSet, validationSet, testSet = dataSetSplit(fakeNews, realNews)\n",
    "    wordBase = generateWordBase(trainingSet)\n",
    "    \n",
    "    training_xy = generateData(wordBase, trainingSet)\n",
    "    validation_xy = generateData(wordBase, validationSet)\n",
    "    test_xy = generateData(wordBase, testSet)\n",
    "    \n",
    "    W = np.random.normal(0.,0.,[len(wordBase)+1,1])\n",
    "    trainedW = grad_descent(forward, backward, NLL, training_xy[:-1,:], training_xy[-1,:], W, training_xy,validation_xy, test_xy)\n",
    "    \n",
    "    performance(training_xy[:-1,:], training_xy[-1,:], trainedW, print_output = True,report = \"training set\")\n",
    "    performance(validation_xy[:-1,:], validation_xy[-1,:], trainedW, print_output = True,report = \"training set\")\n",
    "    performance(test_xy[:-1,:], test_xy[-1,:], trainedW, print_output = True,report = \"training set\")\n",
    "    \n",
    "    return training_xy, validation_xy, test_xy, trainedW"
   ]
  },
  {
   "cell_type": "code",
   "execution_count": 262,
   "metadata": {
    "scrolled": true
   },
   "outputs": [
    {
     "data": {
      "image/png": "[encoded data removed]",
      "text/plain": [
       "<Figure size 432x288 with 1 Axes>"
      ]
     },
     "metadata": {},
     "output_type": "display_data"
    },
    {
     "name": "stdout",
     "output_type": "stream",
     "text": [
      "Performance on training set: 2183.0/2285\n",
      "\n",
      "Performance on training set: 424.0/490\n",
      "\n",
      "Performance on training set: 417.0/491\n",
      "\n"
     ]
    }
   ],
   "source": [
    "training_xy, validation_xy, test_xy, trainedW = part4()"
   ]
  },
  {
   "cell_type": "markdown",
   "metadata": {},
   "source": [
    "## Part 5"
   ]
  },
  {
   "cell_type": "markdown",
   "metadata": {},
   "source": [
    "## Part 6"
   ]
  },
  {
   "cell_type": "markdown",
   "metadata": {},
   "source": [
    "## Part 7"
   ]
  },
  {
   "cell_type": "markdown",
   "metadata": {},
   "source": [
    "## Part 8"
   ]
  },
  {
   "cell_type": "code",
   "execution_count": null,
   "metadata": {},
   "outputs": [],
   "source": []
  }
 ],
 "metadata": {
  "kernelspec": {
   "display_name": "Python 2",
   "language": "python",
   "name": "python2"
  },
  "language_info": {
   "codemirror_mode": {
    "name": "ipython",
    "version": 2
   },
   "file_extension": ".py",
   "mimetype": "text/x-python",
   "name": "python",
   "nbconvert_exporter": "python",
   "pygments_lexer": "ipython2",
   "version": "2.7.14"
  }
 },
 "nbformat": 4,
 "nbformat_minor": 2
}
